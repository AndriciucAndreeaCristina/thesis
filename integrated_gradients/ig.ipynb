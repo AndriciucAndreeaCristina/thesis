{
 "cells": [
  {
   "cell_type": "code",
   "execution_count": 2,
   "metadata": {},
   "outputs": [],
   "source": [
    "import numpy as np\n",
    "import torch\n",
    "import cv2\n",
    "import torch.nn.functional as F\n",
    "from torchvision import models\n",
    "from torchvision import transforms\n",
    "from torchvision import datasets\n",
    "import matplotlib.pyplot as plt\n",
    "from PIL import Image"
   ]
  },
  {
   "cell_type": "code",
   "execution_count": 19,
   "metadata": {},
   "outputs": [],
   "source": [
    "def pre_processing(obs, device):\n",
    "    mean = np.array([0.485, 0.456, 0.406]).reshape([1, 1, 3])\n",
    "    std = np.array([0.229, 0.224, 0.225]).reshape([1, 1, 3])\n",
    "    obs = obs / 255\n",
    "    obs = (obs - mean) / std\n",
    "    obs = np.transpose(obs, (2, 0, 1))\n",
    "    obs = np.expand_dims(obs, 0)\n",
    "    obs = np.array(obs)\n",
    "    obs_tensor = torch.tensor(obs, dtype=torch.float32, device=device, requires_grad=True)\n",
    "    return obs_tensor"
   ]
  },
  {
   "cell_type": "code",
   "execution_count": 37,
   "metadata": {},
   "outputs": [],
   "source": [
    "\n",
    "def generate_entrie_images(img_origin, img_grad, img_grad_overlay, img_integrad, img_integrad_overlay):\n",
    "    blank = np.ones((img_grad.shape[0], 10, 3), dtype=np.uint8) * 255\n",
    "    # blank_hor = np.ones((10, 20 + img_grad.shape[0] * 3, 3), dtype=np.uint8) * 255\n",
    "    # upper = np.concatenate([img_origin[:, :, (2, 1, 0)], blank, img_grad_overlay, blank, img_grad], 1)\n",
    "    down = np.concatenate([img_origin[:, :, (2, 1, 0)], blank, img_integrad_overlay, blank, img_integrad], 1)\n",
    "    # print(upper.shape, blank_hor.shape, down.shape)\n",
    "    total = np.concatenate([down], 0)\n",
    "    total = cv2.resize(total, (550, 182))\n",
    "\n",
    "    return total"
   ]
  },
  {
   "cell_type": "code",
   "execution_count": 5,
   "metadata": {},
   "outputs": [],
   "source": [
    "import json\n",
    "import requests\n",
    "\n",
    "# Load ImageNet class labels\n",
    "LABELS_URL = 'https://raw.githubusercontent.com/anishathalye/imagenet-simple-labels/master/imagenet-simple-labels.json'\n",
    "response = requests.get(LABELS_URL)\n",
    "labels = response.json()\n"
   ]
  },
  {
   "cell_type": "code",
   "execution_count": 24,
   "metadata": {},
   "outputs": [],
   "source": [
    "def calculate_outputs_and_gradients(inputs, model, target_label_idx, device):\n",
    "    # do the pre-processing\n",
    "    predict_idx = None\n",
    "    gradients = []\n",
    "    for input in inputs:\n",
    "        input = pre_processing(input, device)\n",
    "        output = model(input)\n",
    "        if target_label_idx is None:\n",
    "            target_label_idx = torch.argmax(output, 1).item()\n",
    "        output = F.softmax(output, dim=1)\n",
    "        index = np.ones((output.size()[0], 1)) * target_label_idx\n",
    "        index = torch.tensor([[target_label_idx]], dtype=torch.int64, device=device)\n",
    "        output = output.gather(1, index)\n",
    "        # clear grad\n",
    "        model.zero_grad()\n",
    "        output.backward()\n",
    "        gradient = input.grad.detach().cpu().numpy()[0]\n",
    "        gradients.append(gradient)\n",
    "    gradients = np.array(gradients)\n",
    "    return gradients, target_label_idx"
   ]
  },
  {
   "cell_type": "code",
   "execution_count": 16,
   "metadata": {},
   "outputs": [],
   "source": [
    "def integrated_gradients(inputs, model, target_label_idx, predict_and_gradients, baseline=None, steps=50, device=\"cpu\"):\n",
    "    if baseline is None:\n",
    "        baseline = 0 * inputs \n",
    "    # scale inputs and compute gradients\n",
    "    scaled_inputs = [baseline + (float(i) / steps) * (inputs - baseline) for i in range(0, steps + 1)]\n",
    "    grads, _ = predict_and_gradients(scaled_inputs, model, target_label_idx, device)\n",
    "    avg_grads = np.average(grads[:-1], axis=0)\n",
    "    avg_grads = np.transpose(avg_grads, (1, 2, 0))\n",
    "    delta_X = (pre_processing(inputs, device) - pre_processing(baseline, device)).detach().squeeze(0).cpu().numpy()\n",
    "    delta_X = np.transpose(delta_X, (1, 2, 0))\n",
    "    integrated_grad = delta_X * avg_grads\n",
    "    return integrated_grad\n",
    "\n",
    "def random_baseline_integrated_gradients(inputs, model, target_label_idx, predict_and_gradients, steps, num_random_trials, device):\n",
    "    all_intgrads = []\n",
    "    for i in range(num_random_trials):\n",
    "        integrated_grad = integrated_gradients(inputs, model, target_label_idx, predict_and_gradients, \\\n",
    "                                                baseline=255.0 *np.random.random(inputs.shape), steps=steps, device=device)\n",
    "        all_intgrads.append(integrated_grad)\n",
    "        print('the trial number is: {}'.format(i))\n",
    "    avg_intgrads = np.average(np.array(all_intgrads), axis=0)\n",
    "    return avg_intgrads"
   ]
  },
  {
   "cell_type": "code",
   "execution_count": 8,
   "metadata": {},
   "outputs": [],
   "source": [
    "G = [0, 255, 0]\n",
    "R = [255, 0, 0]\n",
    "\n",
    "def convert_to_gray_scale(attributions):\n",
    "    return np.average(attributions, axis=2)"
   ]
  },
  {
   "cell_type": "code",
   "execution_count": 9,
   "metadata": {},
   "outputs": [],
   "source": [
    "def compute_threshold_by_top_percentage(attributions, percentage=60, plot_distribution=True):\n",
    "    if percentage < 0 or percentage > 100:\n",
    "        raise ValueError('percentage must be in [0, 100]')\n",
    "    if percentage == 100:\n",
    "        return np.min(attributions)\n",
    "    flat_attributions = attributions.flatten()\n",
    "    attribution_sum = np.sum(flat_attributions)\n",
    "    sorted_attributions = np.sort(np.abs(flat_attributions))[::-1]\n",
    "    cum_sum = 100.0 * np.cumsum(sorted_attributions) / attribution_sum\n",
    "    threshold_idx = np.where(cum_sum >= percentage)[0][0]\n",
    "    threshold = sorted_attributions[threshold_idx]\n",
    "    if plot_distribution:\n",
    "        raise NotImplementedError \n",
    "    return threshold\n"
   ]
  },
  {
   "cell_type": "code",
   "execution_count": 10,
   "metadata": {},
   "outputs": [],
   "source": [
    "def linear_transform(attributions, clip_above_percentile=99.9, clip_below_percentile=70.0, low=0.2, plot_distribution=False):\n",
    "    m = compute_threshold_by_top_percentage(attributions, percentage=100-clip_above_percentile, plot_distribution=plot_distribution)\n",
    "    e = compute_threshold_by_top_percentage(attributions, percentage=100-clip_below_percentile, plot_distribution=plot_distribution)\n",
    "    transformed = (1 - low) * (np.abs(attributions) - e) / (m - e) + low\n",
    "    transformed *= np.sign(attributions)\n",
    "    transformed *= (transformed >= low)\n",
    "    transformed = np.clip(transformed, 0.0, 1.0)\n",
    "    return transformed\n"
   ]
  },
  {
   "cell_type": "code",
   "execution_count": 11,
   "metadata": {},
   "outputs": [],
   "source": [
    "def polarity_function(attributions, polarity):\n",
    "    if polarity == 'positive':\n",
    "        return np.clip(attributions, 0, 1)\n",
    "    elif polarity == 'negative':\n",
    "        return np.clip(attributions, -1, 0)\n",
    "    else:\n",
    "        raise NotImplementedError\n",
    "\n",
    "def overlay_function(attributions, image):\n",
    "    return np.clip(0.7 * image + 0.5 * attributions, 0, 255)"
   ]
  },
  {
   "cell_type": "code",
   "execution_count": 12,
   "metadata": {},
   "outputs": [],
   "source": [
    "def visualize(attributions, image, positive_channel=G, negative_channel=R, polarity='positive', \\\n",
    "                clip_above_percentile=99.9, clip_below_percentile=0, morphological_cleanup=False, \\\n",
    "                structure=np.ones((3, 3)), outlines=False, outlines_component_percentage=90, overlay=True, \\\n",
    "                mask_mode=False, plot_distribution=False):\n",
    "    if polarity == 'both':\n",
    "        raise NotImplementedError\n",
    "\n",
    "    elif polarity == 'positive':\n",
    "        attributions = polarity_function(attributions, polarity=polarity)\n",
    "        channel = positive_channel\n",
    "    \n",
    "    # convert the attributions to the gray scale\n",
    "    attributions = convert_to_gray_scale(attributions)\n",
    "    attributions = linear_transform(attributions, clip_above_percentile, clip_below_percentile, 0.0, plot_distribution=plot_distribution)\n",
    "    attributions_mask = attributions.copy()\n",
    "    if morphological_cleanup:\n",
    "        raise NotImplementedError\n",
    "    if outlines:\n",
    "        raise NotImplementedError\n",
    "    attributions = np.expand_dims(attributions, 2) * channel\n",
    "    if overlay:\n",
    "        if mask_mode == False:\n",
    "            attributions = overlay_function(attributions, image)\n",
    "        else:\n",
    "            attributions = np.expand_dims(attributions_mask, 2)\n",
    "            attributions = np.clip(attributions * image, 0, 255)\n",
    "            attributions = attributions[:, :, (2, 1, 0)]\n",
    "    return attributions"
   ]
  },
  {
   "cell_type": "code",
   "execution_count": 25,
   "metadata": {},
   "outputs": [
    {
     "name": "stderr",
     "output_type": "stream",
     "text": [
      "c:\\ProgramData\\miniconda3\\envs\\env_gpu\\Lib\\site-packages\\torchvision\\models\\_utils.py:208: UserWarning: The parameter 'pretrained' is deprecated since 0.13 and may be removed in the future, please use 'weights' instead.\n",
      "  warnings.warn(\n",
      "c:\\ProgramData\\miniconda3\\envs\\env_gpu\\Lib\\site-packages\\torchvision\\models\\_utils.py:223: UserWarning: Arguments other than a weight enum or `None` for 'weights' are deprecated since 0.13 and may be removed in the future. The current behavior is equivalent to passing `weights=VGG19_BN_Weights.IMAGENET1K_V1`. You can also use `weights=VGG19_BN_Weights.DEFAULT` to get the most up-to-date weights.\n",
      "  warnings.warn(msg)\n"
     ]
    },
    {
     "data": {
      "text/plain": [
       "VGG(\n",
       "  (features): Sequential(\n",
       "    (0): Conv2d(3, 64, kernel_size=(3, 3), stride=(1, 1), padding=(1, 1))\n",
       "    (1): BatchNorm2d(64, eps=1e-05, momentum=0.1, affine=True, track_running_stats=True)\n",
       "    (2): ReLU(inplace=True)\n",
       "    (3): Conv2d(64, 64, kernel_size=(3, 3), stride=(1, 1), padding=(1, 1))\n",
       "    (4): BatchNorm2d(64, eps=1e-05, momentum=0.1, affine=True, track_running_stats=True)\n",
       "    (5): ReLU(inplace=True)\n",
       "    (6): MaxPool2d(kernel_size=2, stride=2, padding=0, dilation=1, ceil_mode=False)\n",
       "    (7): Conv2d(64, 128, kernel_size=(3, 3), stride=(1, 1), padding=(1, 1))\n",
       "    (8): BatchNorm2d(128, eps=1e-05, momentum=0.1, affine=True, track_running_stats=True)\n",
       "    (9): ReLU(inplace=True)\n",
       "    (10): Conv2d(128, 128, kernel_size=(3, 3), stride=(1, 1), padding=(1, 1))\n",
       "    (11): BatchNorm2d(128, eps=1e-05, momentum=0.1, affine=True, track_running_stats=True)\n",
       "    (12): ReLU(inplace=True)\n",
       "    (13): MaxPool2d(kernel_size=2, stride=2, padding=0, dilation=1, ceil_mode=False)\n",
       "    (14): Conv2d(128, 256, kernel_size=(3, 3), stride=(1, 1), padding=(1, 1))\n",
       "    (15): BatchNorm2d(256, eps=1e-05, momentum=0.1, affine=True, track_running_stats=True)\n",
       "    (16): ReLU(inplace=True)\n",
       "    (17): Conv2d(256, 256, kernel_size=(3, 3), stride=(1, 1), padding=(1, 1))\n",
       "    (18): BatchNorm2d(256, eps=1e-05, momentum=0.1, affine=True, track_running_stats=True)\n",
       "    (19): ReLU(inplace=True)\n",
       "    (20): Conv2d(256, 256, kernel_size=(3, 3), stride=(1, 1), padding=(1, 1))\n",
       "    (21): BatchNorm2d(256, eps=1e-05, momentum=0.1, affine=True, track_running_stats=True)\n",
       "    (22): ReLU(inplace=True)\n",
       "    (23): Conv2d(256, 256, kernel_size=(3, 3), stride=(1, 1), padding=(1, 1))\n",
       "    (24): BatchNorm2d(256, eps=1e-05, momentum=0.1, affine=True, track_running_stats=True)\n",
       "    (25): ReLU(inplace=True)\n",
       "    (26): MaxPool2d(kernel_size=2, stride=2, padding=0, dilation=1, ceil_mode=False)\n",
       "    (27): Conv2d(256, 512, kernel_size=(3, 3), stride=(1, 1), padding=(1, 1))\n",
       "    (28): BatchNorm2d(512, eps=1e-05, momentum=0.1, affine=True, track_running_stats=True)\n",
       "    (29): ReLU(inplace=True)\n",
       "    (30): Conv2d(512, 512, kernel_size=(3, 3), stride=(1, 1), padding=(1, 1))\n",
       "    (31): BatchNorm2d(512, eps=1e-05, momentum=0.1, affine=True, track_running_stats=True)\n",
       "    (32): ReLU(inplace=True)\n",
       "    (33): Conv2d(512, 512, kernel_size=(3, 3), stride=(1, 1), padding=(1, 1))\n",
       "    (34): BatchNorm2d(512, eps=1e-05, momentum=0.1, affine=True, track_running_stats=True)\n",
       "    (35): ReLU(inplace=True)\n",
       "    (36): Conv2d(512, 512, kernel_size=(3, 3), stride=(1, 1), padding=(1, 1))\n",
       "    (37): BatchNorm2d(512, eps=1e-05, momentum=0.1, affine=True, track_running_stats=True)\n",
       "    (38): ReLU(inplace=True)\n",
       "    (39): MaxPool2d(kernel_size=2, stride=2, padding=0, dilation=1, ceil_mode=False)\n",
       "    (40): Conv2d(512, 512, kernel_size=(3, 3), stride=(1, 1), padding=(1, 1))\n",
       "    (41): BatchNorm2d(512, eps=1e-05, momentum=0.1, affine=True, track_running_stats=True)\n",
       "    (42): ReLU(inplace=True)\n",
       "    (43): Conv2d(512, 512, kernel_size=(3, 3), stride=(1, 1), padding=(1, 1))\n",
       "    (44): BatchNorm2d(512, eps=1e-05, momentum=0.1, affine=True, track_running_stats=True)\n",
       "    (45): ReLU(inplace=True)\n",
       "    (46): Conv2d(512, 512, kernel_size=(3, 3), stride=(1, 1), padding=(1, 1))\n",
       "    (47): BatchNorm2d(512, eps=1e-05, momentum=0.1, affine=True, track_running_stats=True)\n",
       "    (48): ReLU(inplace=True)\n",
       "    (49): Conv2d(512, 512, kernel_size=(3, 3), stride=(1, 1), padding=(1, 1))\n",
       "    (50): BatchNorm2d(512, eps=1e-05, momentum=0.1, affine=True, track_running_stats=True)\n",
       "    (51): ReLU(inplace=True)\n",
       "    (52): MaxPool2d(kernel_size=2, stride=2, padding=0, dilation=1, ceil_mode=False)\n",
       "  )\n",
       "  (avgpool): AdaptiveAvgPool2d(output_size=(7, 7))\n",
       "  (classifier): Sequential(\n",
       "    (0): Linear(in_features=25088, out_features=4096, bias=True)\n",
       "    (1): ReLU(inplace=True)\n",
       "    (2): Dropout(p=0.5, inplace=False)\n",
       "    (3): Linear(in_features=4096, out_features=4096, bias=True)\n",
       "    (4): ReLU(inplace=True)\n",
       "    (5): Dropout(p=0.5, inplace=False)\n",
       "    (6): Linear(in_features=4096, out_features=1000, bias=True)\n",
       "  )\n",
       ")"
      ]
     },
     "execution_count": 25,
     "metadata": {},
     "output_type": "execute_result"
    }
   ],
   "source": [
    "model =  models.vgg19_bn(pretrained=True)\n",
    "model.eval()\n",
    "device = torch.device(\"cuda\" if torch.cuda.is_available() else \"cpu\")\n",
    "model.to(device)"
   ]
  },
  {
   "cell_type": "code",
   "execution_count": 39,
   "metadata": {},
   "outputs": [
    {
     "data": {
      "text/plain": [
       "True"
      ]
     },
     "execution_count": 39,
     "metadata": {},
     "output_type": "execute_result"
    }
   ],
   "source": [
    "\n",
    "img_path = \"01.jpg\"\n",
    "img = cv2.imread('./data/' + img_path)\n",
    "img = img.astype(np.float32) \n",
    "img = img[:, :, (2, 1, 0)]\n",
    "\n",
    "# calculate the gradient and the label index\n",
    "gradients, label_index = calculate_outputs_and_gradients([img], model, None, device)\n",
    "gradients = np.transpose(gradients[0], (1, 2, 0))\n",
    "img_gradient_overlay = visualize(gradients, img, clip_above_percentile=99, clip_below_percentile=0, overlay=True, mask_mode=True)\n",
    "img_gradient = visualize(gradients, img, clip_above_percentile=99, clip_below_percentile=0, overlay=False)\n",
    "\n",
    "attributions = integrated_gradients(img, model, label_index, calculate_outputs_and_gradients, \\\n",
    "                                                       steps=50, device=device)\n",
    "# attributions = random_baseline_integrated_gradients(img, model, label_index, calculate_outputs_and_gradients, \\\n",
    "#                                                          steps=50, num_random_trials=10, device=device)\n",
    "img_integrated_gradient_overlay = visualize(attributions, img, clip_above_percentile=99, clip_below_percentile=0, \\\n",
    "                                            overlay=True, mask_mode=True)\n",
    "img_integrated_gradient = visualize(attributions, img, clip_above_percentile=99, clip_below_percentile=0, overlay=False)\n",
    "output_img = generate_entrie_images(img, img_gradient, img_gradient_overlay, img_integrated_gradient, \\\n",
    "                                    img_integrated_gradient_overlay)\n",
    "\n",
    "cv2.imwrite('outputs/'  + img_path, np.uint8(output_img))\n",
    "# cv2.imwrite('outputs/random_baseline_'  + img_path, np.uint8(output_img))"
   ]
  }
 ],
 "metadata": {
  "kernelspec": {
   "display_name": "env_gpu",
   "language": "python",
   "name": "python3"
  },
  "language_info": {
   "codemirror_mode": {
    "name": "ipython",
    "version": 3
   },
   "file_extension": ".py",
   "mimetype": "text/x-python",
   "name": "python",
   "nbconvert_exporter": "python",
   "pygments_lexer": "ipython3",
   "version": "3.12.3"
  }
 },
 "nbformat": 4,
 "nbformat_minor": 2
}
